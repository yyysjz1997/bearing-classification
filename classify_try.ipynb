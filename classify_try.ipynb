{
 "cells": [
  {
   "cell_type": "code",
   "execution_count": 2,
   "metadata": {},
   "outputs": [
    {
     "name": "stdout",
     "output_type": "stream",
     "text": [
      "type of prevalue =  <class 'tensorflow.python.framework.ops.Tensor'>\n",
      "INFO:tensorflow:Restoring parameters from check_point/data_model-7464\n",
      "<class 'numpy.ndarray'> 528\n",
      "[9 2 1 0 0 0 3 7 0 0 2 0 7 0 0 7 8 9 0 0 8 0 1 5 1 0 4 0 1 0 3 0 0 0 3 0 0\n",
      " 0 3 5 7 8 0 9 8 8 0 8 7 0 0 2 0 7 0 0 0 0 3 0 0 7 0 0 8 0 6 0 0 0 2 0 0 0\n",
      " 0 8 0 0 0 9 0 0 0 0 1 0 0 9 0 0 0 0 9 7 5 0 0 7 9 0 0 8 6 0 0 0 0 0 3 0 0\n",
      " 7 0 0 0 5 3 8 0 0 8 0 8 3 1 0 1 1 0 0 8 3 0 7 3 0 0 0 0 0 8 5 0 5 0 0 0 0\n",
      " 8 4 2 0 0 0 0 8 8 0 7 3 1 0 0 0 0 9 8 7 0 0 3 0 0 1 0 2 0 0 4 8 8 8 8 0 0\n",
      " 1 0 0 1 8 3 4 0 0 0 0 0 1 7 0 0 0 0 0 3 0 0 0 0 0 0 1 0 1 0 0 4 0 0 0 0 1\n",
      " 0 7 3 0 0 0 0 3 0 0 0 0 1 0 0 0 0 0 0 0 3 0 0 8 0 0 8 0 0 8 0 7 9 6 8 0 0\n",
      " 7 0 0 8 0 0 0 0 0 0 0 4 0 0 1 0 2 0 0 3 0 0 0 5 0 0 3 7 3 2 0 0 0 6 9 0 0\n",
      " 0 0 0 4 8 4 1 0 0 0 0 2 3 8 0 1 0 7 0 9 0 3 0 1 0 0 0 5 1 8 0 1 3 0 0 0 0\n",
      " 9 0 0 0 0 0 0 0 0 2 6 4 0 0 3 0 3 0 0 0 0 0 3 0 0 0 1 0 7 0 0 0 9 7 7 0 0\n",
      " 0 9 5 0 0 0 3 8 8 3 0 0 5 2 0 0 7 0 2 0 0 0 0 2 0 1 0 5 0 0 0 0 3 0 5 0 0\n",
      " 0 8 8 0 9 3 0 2 0 0 4 0 0 8 0 0 3 0 5 0 1 3 0 0 2 2 0 0 9 0 2 2 0 0 7 1 3\n",
      " 0 0 0 3 0 1 0 0 0 0 0 0 1 0 5 0 0 0 0 1 0 8 4 4 0 8 0 0 0 0 0 0 9 0 0 9 0\n",
      " 7 3 4 0 0 0 8 8 1 0 8 0 0 0 8 0 0 0 7 0 0 0 0 0 3 0 0 7 0 2 6 0 0 0 3 0 1\n",
      " 3 0 3 0 3 8 0 6 3 0]\n"
     ]
    },
    {
     "name": "stderr",
     "output_type": "stream",
     "text": [
      "/home/multiphase/yyy/Bearing_Classification/classify.py:179: FutureWarning: Method .as_matrix will be removed in a future version. Use .values instead.\n",
      "  new_data = new_data.as_matrix() #numpy.ndarray格式\n"
     ]
    }
   ],
   "source": [
    "%run classify.py"
   ]
  }
 ],
 "metadata": {
  "kernelspec": {
   "display_name": "Python 3",
   "language": "python",
   "name": "python3"
  },
  "language_info": {
   "codemirror_mode": {
    "name": "ipython",
    "version": 3
   },
   "file_extension": ".py",
   "mimetype": "text/x-python",
   "name": "python",
   "nbconvert_exporter": "python",
   "pygments_lexer": "ipython3",
   "version": "3.6.8"
  }
 },
 "nbformat": 4,
 "nbformat_minor": 2
}
